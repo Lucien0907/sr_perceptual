{
  "nbformat": 4,
  "nbformat_minor": 0,
  "metadata": {
    "colab": {
      "name": "model .ipynb",
      "version": "0.3.2",
      "provenance": [],
      "collapsed_sections": [
        "BKGZvtey54Rb",
        "t5GVEZ-8sNtM",
        "1NKT289ssNtN",
        "NQ90-FJ75I-6",
        "lRnrxgzE5LiN",
        "pStU6kRPn3Os",
        "bmEyr74LoA4_"
      ],
      "include_colab_link": true
    },
    "language_info": {
      "codemirror_mode": {
        "name": "ipython",
        "version": 3
      },
      "file_extension": ".py",
      "mimetype": "text/x-python",
      "name": "python",
      "nbconvert_exporter": "python",
      "pygments_lexer": "ipython3",
      "version": "3.6.4"
    },
    "kernelspec": {
      "display_name": "TensorFlow-GPU",
      "language": "python",
      "name": "fyp"
    },
    "accelerator": "GPU"
  },
  "cells": [
    {
      "cell_type": "markdown",
      "metadata": {
        "id": "view-in-github",
        "colab_type": "text"
      },
      "source": [
        "<a href=\"https://colab.research.google.com/github/Lucien0907/sr_perceptual/blob/master/model_.ipynb\" target=\"_parent\"><img src=\"https://colab.research.google.com/assets/colab-badge.svg\" alt=\"Open In Colab\"/></a>"
      ]
    },
    {
      "cell_type": "markdown",
      "metadata": {
        "colab_type": "text",
        "id": "BKGZvtey54Rb"
      },
      "source": [
        "# 1. Data preparation"
      ]
    },
    {
      "cell_type": "code",
      "metadata": {
        "colab_type": "code",
        "id": "Of8A3q-aQ-gx",
        "colab": {}
      },
      "source": [
        "from os import listdir, makedirs\n",
        "from os.path import isfile, join, exists\n",
        "from google.colab import drive\n",
        "\n",
        "import cv2\n",
        "import h5py\n",
        "import random\n",
        "import numpy as np\n",
        "import imageio\n",
        "import scipy.io as sio\n",
        "import matplotlib.pyplot as plt\n",
        "from skimage.filters import gaussian\n",
        "from sklearn.feature_extraction import image"
      ],
      "execution_count": 0,
      "outputs": []
    },
    {
      "cell_type": "markdown",
      "metadata": {
        "id": "0wcUMnDEsNtF",
        "colab_type": "text"
      },
      "source": [
        "## a. Load previously saved data"
      ]
    },
    {
      "cell_type": "code",
      "metadata": {
        "id": "AaDNsvNKsggU",
        "colab_type": "code",
        "colab": {}
      },
      "source": [
        "drive.mount('/content/drive')\n",
        "%cd 'drive/My Drive/sr_perceptual'"
      ],
      "execution_count": 0,
      "outputs": []
    },
    {
      "cell_type": "code",
      "metadata": {
        "id": "NCydRpp-sNtG",
        "colab_type": "code",
        "colab": {}
      },
      "source": [
        "with h5py.File('data/data_train_val.h5', 'r') as hf:\n",
        "    x_train = hf['x_train'][:]\n",
        "    y_train = hf['y_train'][:]\n",
        "    x_valid = hf['x_valid'][:]\n",
        "    y_valid = hf['y_valid'][:]\n",
        "with h5py.File('data/data_test_set14.h5', 'r') as hf:\n",
        "    x_test = hf['x_test'][:]\n",
        "    y_test = hf['y_test'][:]\n",
        "print('x_train', x_train.shape, 'y_train', y_train.shape, 'x_valid', \n",
        "      x_valid.shape, 'y_valid', y_valid.shape, 'x_test', x_test.shape, 'y_test', y_test.shape)"
      ],
      "execution_count": 0,
      "outputs": []
    },
    {
      "cell_type": "markdown",
      "metadata": {
        "id": "t5GVEZ-8sNtM",
        "colab_type": "text"
      },
      "source": [
        "## b. Generate new data"
      ]
    },
    {
      "cell_type": "markdown",
      "metadata": {
        "id": "1NKT289ssNtN",
        "colab_type": "text"
      },
      "source": [
        "### Generate training data"
      ]
    },
    {
      "cell_type": "code",
      "metadata": {
        "id": "uaHOzEgesNtO",
        "colab_type": "code",
        "outputId": "16702a11-4bde-4f10-be9f-c0151d9532f4",
        "colab": {
          "base_uri": "https://localhost:8080/",
          "height": 244
        }
      },
      "source": [
        "mypath='/home/lucien/sr-perceptual/data/train2014'\n",
        "onlyfiles = [ f for f in listdir(mypath) if f.endswith('.jpg')]\n",
        "onlyfiles = random.sample(onlyfiles, 11000)\n",
        "\n",
        "y_train = []\n",
        "x_train = []\n",
        "\n",
        "for n in range(0, len(onlyfiles)):\n",
        "  img = imageio.imread(join(mypath,onlyfiles[n]))\n",
        "  if img.ndim < 3:\n",
        "        img = np.array([img,img,img]).reshape(img.shape[0],img.shape[1],3)\n",
        "  delta_h = max(0, 288-img.shape[0])\n",
        "  delta_w = max(0, 288-img.shape[1])\n",
        "  top = delta_h//2\n",
        "  bottom = delta_h-top\n",
        "  left = delta_w//2\n",
        "  right = delta_w-left\n",
        "  new_img = np.pad(img,((top,bottom),(left,right),(0,0)), 'constant', )\n",
        "  patches = image.extract_patches_2d(new_img, (288, 288), max_patches=1)\n",
        "  for x in patches:\n",
        "    y_train.append(x)\n",
        "    gauss = cv2.GaussianBlur(x, (0, 0), 1)\n",
        "    bicubic = cv2.resize(gauss,(72,72), interpolation = cv2.INTER_CUBIC)\n",
        "    x_train.append(bicubic)\n",
        "\n",
        "x_train=np.asarray(x_train)\n",
        "y_train=np.asarray(y_train)\n",
        "\n",
        "x_train, x_valid, y_train, y_valid = train_test_split(data, labels, test_size=1000, shuffle= True)\n"
      ],
      "execution_count": 0,
      "outputs": [
        {
          "output_type": "error",
          "ename": "FileNotFoundError",
          "evalue": "ignored",
          "traceback": [
            "\u001b[0;31m---------------------------------------------------------------------------\u001b[0m",
            "\u001b[0;31mFileNotFoundError\u001b[0m                         Traceback (most recent call last)",
            "\u001b[0;32m<ipython-input-84-192847cd6a51>\u001b[0m in \u001b[0;36m<module>\u001b[0;34m()\u001b[0m\n\u001b[1;32m      1\u001b[0m \u001b[0mmypath\u001b[0m\u001b[0;34m=\u001b[0m\u001b[0;34m'/home/lucien/sr-perceptual/data/train2014'\u001b[0m\u001b[0;34m\u001b[0m\u001b[0;34m\u001b[0m\u001b[0m\n\u001b[0;32m----> 2\u001b[0;31m \u001b[0monlyfiles\u001b[0m \u001b[0;34m=\u001b[0m \u001b[0;34m[\u001b[0m \u001b[0mf\u001b[0m \u001b[0;32mfor\u001b[0m \u001b[0mf\u001b[0m \u001b[0;32min\u001b[0m \u001b[0mlistdir\u001b[0m\u001b[0;34m(\u001b[0m\u001b[0mmypath\u001b[0m\u001b[0;34m)\u001b[0m \u001b[0;32mif\u001b[0m \u001b[0mf\u001b[0m\u001b[0;34m.\u001b[0m\u001b[0mendswith\u001b[0m\u001b[0;34m(\u001b[0m\u001b[0;34m'.jpg'\u001b[0m\u001b[0;34m)\u001b[0m\u001b[0;34m]\u001b[0m\u001b[0;34m\u001b[0m\u001b[0;34m\u001b[0m\u001b[0m\n\u001b[0m\u001b[1;32m      3\u001b[0m \u001b[0monlyfiles\u001b[0m \u001b[0;34m=\u001b[0m \u001b[0mrandom\u001b[0m\u001b[0;34m.\u001b[0m\u001b[0msample\u001b[0m\u001b[0;34m(\u001b[0m\u001b[0monlyfiles\u001b[0m\u001b[0;34m,\u001b[0m \u001b[0;36m11000\u001b[0m\u001b[0;34m)\u001b[0m\u001b[0;34m\u001b[0m\u001b[0;34m\u001b[0m\u001b[0m\n\u001b[1;32m      4\u001b[0m \u001b[0;34m\u001b[0m\u001b[0m\n\u001b[1;32m      5\u001b[0m \u001b[0my_train\u001b[0m \u001b[0;34m=\u001b[0m \u001b[0;34m[\u001b[0m\u001b[0;34m]\u001b[0m\u001b[0;34m\u001b[0m\u001b[0;34m\u001b[0m\u001b[0m\n",
            "\u001b[0;31mFileNotFoundError\u001b[0m: [Errno 2] No such file or directory: '/home/lucien/sr-perceptual/data/train2014'"
          ]
        }
      ]
    },
    {
      "cell_type": "code",
      "metadata": {
        "id": "KFeyARjcsNtS",
        "colab_type": "code",
        "colab": {}
      },
      "source": [
        "n=5\n",
        "fig, ax = plt.subplots(1, 2)\n",
        "ax[0].imshow(y_train[1*n])\n",
        "ax[0].axis('off')\n",
        "ax[1].imshow(x_train[1*n])\n",
        "ax[1].axis('off')\n",
        "plt.show()"
      ],
      "execution_count": 0,
      "outputs": []
    },
    {
      "cell_type": "code",
      "metadata": {
        "id": "l1AvACN4sNtW",
        "colab_type": "code",
        "colab": {}
      },
      "source": [
        "with h5py.File('data_train_new.h5', 'w') as hf:\n",
        "    hf.create_dataset('x_train', data=x_train)\n",
        "    hf.create_dataset('y_train', data=y_train)"
      ],
      "execution_count": 0,
      "outputs": []
    },
    {
      "cell_type": "markdown",
      "metadata": {
        "id": "zAm9eWFasNtZ",
        "colab_type": "text"
      },
      "source": [
        "### Generating test data"
      ]
    },
    {
      "cell_type": "code",
      "metadata": {
        "colab_type": "code",
        "id": "sUscCC8AXbL1",
        "colab": {}
      },
      "source": [
        "mypath='/home/lucien/sr-perceptual/data/Set14'\n",
        "onlyfiles = [ f for f in listdir(mypath) if f.endswith('.png') ]\n",
        "\n",
        "y_test = []\n",
        "x_test = []\n",
        "\n",
        "for n in range(0, len(onlyfiles)):\n",
        "  img = imageio.imread(join(mypath,onlyfiles[n]))\n",
        "  if img.ndim < 3:\n",
        "    img = np.array([img,img,img]).reshape(img.shape[0],img.shape[1],3)\n",
        "  delta_h = max(0, 288-img.shape[0])\n",
        "  delta_w = max(0, 288-img.shape[1])\n",
        "  top = delta_h//2\n",
        "  bottom = delta_h-top\n",
        "  left = delta_w//2\n",
        "  right = delta_w-left\n",
        "  new_img = np.pad(img,((top,bottom),(left,right),(0,0)), 'constant', )\n",
        "  patches = image.extract_patches_2d(new_img, (288, 288), max_patches=1)\n",
        "  for x in patches:\n",
        "    y_test.append(x) \n",
        "    gauss = cv2.GaussianBlur(x, (0, 0), 1)\n",
        "    bicubic = cv2.resize(gauss,(72,72), interpolation = cv2.INTER_CUBIC)\n",
        "    x_test.append(bicubic)\n",
        "    \n",
        "x_test=np.asarray(x_test)\n",
        "y_test=np.asarray(y_test)"
      ],
      "execution_count": 0,
      "outputs": []
    },
    {
      "cell_type": "code",
      "metadata": {
        "id": "ANHanljysNtd",
        "colab_type": "code",
        "outputId": "f3a0d890-d91a-4d91-dcbe-a4bd4ac44837",
        "colab": {
          "base_uri": "https://localhost:8080/",
          "height": 258
        }
      },
      "source": [
        "print(np.shape(y_test))\n",
        "print(np.shape(x_test))\n",
        "n = 5\n",
        "plt.subplot(1,2,1)\n",
        "plt.imshow(y_test[n])\n",
        "plt.subplot(1,2,2)\n",
        "plt.imshow(x_test[n])"
      ],
      "execution_count": 0,
      "outputs": [
        {
          "output_type": "stream",
          "text": [
            "(14, 288, 288, 3)\n",
            "(14, 72, 72, 3)\n"
          ],
          "name": "stdout"
        },
        {
          "output_type": "execute_result",
          "data": {
            "text/plain": [
              "<matplotlib.image.AxesImage at 0x7f7bfc74b748>"
            ]
          },
          "metadata": {
            "tags": []
          },
          "execution_count": 50
        },
        {
          "output_type": "display_data",
          "data": {
            "image/png": "[encoded data removed]",
            "text/plain": [
              "<Figure size 432x288 with 2 Axes>"
            ]
          },
          "metadata": {
            "tags": []
          }
        }
      ]
    },
    {
      "cell_type": "code",
      "metadata": {
        "id": "jsUUSHXasNth",
        "colab_type": "code",
        "colab": {}
      },
      "source": [
        "with h5py.File('data_test_set14_new.h5', 'w') as hf:\n",
        "    hf.create_dataset('x_test', data=x_test)\n",
        "    hf.create_dataset('y_test', data=y_test)"
      ],
      "execution_count": 0,
      "outputs": []
    },
    {
      "cell_type": "markdown",
      "metadata": {
        "colab_type": "text",
        "id": "NQ90-FJ75I-6"
      },
      "source": [
        "# 2. Helper functions for building transformation network"
      ]
    },
    {
      "cell_type": "code",
      "metadata": {
        "colab_type": "code",
        "id": "-7MnXHkl5Tbx",
        "colab": {}
      },
      "source": [
        "from __future__ import division\n",
        "\n",
        "import six\n",
        "import os\n",
        "import cv2\n",
        "import keras\n",
        "import math\n",
        "\n",
        "import tensorflow as tf\n",
        "from keras.models import Model\n",
        "from keras.models import load_model\n",
        "from keras.engine.topology import Layer\n",
        "from keras.layers import Input, Activation, Dense, Flatten\n",
        "from keras.layers.convolutional import Conv2D, Conv2DTranspose, MaxPooling2D, AveragePooling2D\n",
        "from keras.layers.merge import add\n",
        "from keras.layers.normalization import BatchNormalization\n",
        "from keras.regularizers import l2\n",
        "from keras import backend as K\n",
        "from keras.utils import plot_model\n",
        "from keras.applications.vgg16 import VGG16\n",
        "from skimage.measure import compare_psnr, compare_ssim"
      ],
      "execution_count": 0,
      "outputs": []
    },
    {
      "cell_type": "code",
      "metadata": {
        "colab_type": "code",
        "id": "h5Nj08y2494Q",
        "colab": {}
      },
      "source": [
        "def _bn_relu(input):\n",
        "    \"\"\"Helper to build a BN -> relu block\"\"\"\n",
        "    norm = BatchNormalization(axis=CHANNEL_AXIS)(input)\n",
        "    return Activation(\"relu\")(norm)\n",
        "\n",
        "def _bn_tanh(input):\n",
        "    \"\"\"Helper to build a BN -> relu block\"\"\"\n",
        "    norm = BatchNormalization(axis=CHANNEL_AXIS)(input)\n",
        "    return Activation(\"tanh\")(norm)\n",
        "\n",
        "def _conv_bn_tanh(**conv_params):\n",
        "    \"\"\"Helper to build a conv -> BN -> relu block\"\"\"\n",
        "    filters = conv_params[\"filters\"]\n",
        "    kernel_size = conv_params[\"kernel_size\"]\n",
        "    strides = conv_params.setdefault(\"strides\", (1, 1))\n",
        "    kernel_initializer = conv_params.setdefault(\"kernel_initializer\", \"he_normal\")\n",
        "    padding = conv_params.setdefault(\"padding\", \"same\")\n",
        "    kernel_regularizer = conv_params.setdefault(\"kernel_regularizer\", l2(1.e-4))\n",
        "\n",
        "    def f(input):\n",
        "        conv = Conv2D(filters=filters, kernel_size=kernel_size,\n",
        "                      strides=strides, padding=padding,\n",
        "                      kernel_initializer=kernel_initializer,\n",
        "                      kernel_regularizer=kernel_regularizer)(input)\n",
        "        return _bn_tanh(conv)\n",
        "\n",
        "    return f\n",
        "\n",
        "def _conv_bn_relu(**conv_params):\n",
        "    \"\"\"Helper to build a conv -> BN -> relu block\"\"\"\n",
        "    filters = conv_params[\"filters\"]\n",
        "    kernel_size = conv_params[\"kernel_size\"]\n",
        "    strides = conv_params.setdefault(\"strides\", (1, 1))\n",
        "    kernel_initializer = conv_params.setdefault(\"kernel_initializer\", \"he_normal\")\n",
        "    padding = conv_params.setdefault(\"padding\", \"same\")\n",
        "    kernel_regularizer = conv_params.setdefault(\"kernel_regularizer\", l2(1.e-4))\n",
        "\n",
        "    def f(input):\n",
        "        conv = Conv2D(filters=filters, kernel_size=kernel_size,\n",
        "                      strides=strides, padding=padding,\n",
        "                      kernel_initializer=kernel_initializer,\n",
        "                      kernel_regularizer=kernel_regularizer)(input)\n",
        "        return _bn_relu(conv)\n",
        "\n",
        "    return f\n",
        "\n",
        "def _conv_trans_bn_relu(**conv_params):\n",
        "    \"\"\"Helper to build a conv_trans -> BN -> relu block\"\"\"\n",
        "    filters = conv_params[\"filters\"]\n",
        "    kernel_size = conv_params[\"kernel_size\"]\n",
        "    strides = conv_params.setdefault(\"strides\", (2, 2))\n",
        "    kernel_initializer = conv_params.setdefault(\"kernel_initializer\", \"he_normal\")\n",
        "    padding = conv_params.setdefault(\"padding\", \"same\")\n",
        "    kernel_regularizer = conv_params.setdefault(\"kernel_regularizer\", l2(1.e-4))\n",
        "\n",
        "    def f(input):\n",
        "        conv = Conv2DTranspose(filters=filters, kernel_size=kernel_size,\n",
        "                      strides=strides, padding=padding,\n",
        "                      kernel_initializer=kernel_initializer,\n",
        "                      kernel_regularizer=kernel_regularizer)(input)\n",
        "        return _bn_relu(conv)\n",
        "\n",
        "    return f\n",
        "\n",
        "def _bn_relu_conv(**conv_params):\n",
        "    \"\"\"Helper to build a BN -> relu -> conv block.\n",
        "    This is an improved scheme proposed in http://arxiv.org/pdf/1603.05027v2.pdf\"\"\"\n",
        "    filters = conv_params[\"filters\"]\n",
        "    kernel_size = conv_params[\"kernel_size\"]\n",
        "    strides = conv_params.setdefault(\"strides\", (1, 1))\n",
        "    kernel_initializer = conv_params.setdefault(\"kernel_initializer\", \"he_normal\")\n",
        "    padding = conv_params.setdefault(\"padding\", \"same\")\n",
        "    kernel_regularizer = conv_params.setdefault(\"kernel_regularizer\", l2(1.e-4))\n",
        "\n",
        "    def f(input):\n",
        "        activation = _bn_relu(input)\n",
        "        return Conv2D(filters=filters, kernel_size=kernel_size,\n",
        "                      strides=strides, padding=padding,\n",
        "                      kernel_initializer=kernel_initializer,\n",
        "                      kernel_regularizer=kernel_regularizer)(activation)\n",
        "\n",
        "    return f\n",
        "\n",
        "def _shortcut(input, residual):\n",
        "    \"\"\"Adds a shortcut between input and residual block and merges them with \"sum\"\n",
        "    \"\"\"\n",
        "    # Expand channels of shortcut to match residual.\n",
        "    # Stride appropriately to match residual (width, height)\n",
        "    # Should be int if network architecture is correctly configured.\n",
        "    input_shape = K.int_shape(input)\n",
        "    residual_shape = K.int_shape(residual)\n",
        "    stride_width = int(round(input_shape[ROW_AXIS] / residual_shape[ROW_AXIS]))\n",
        "    stride_height = int(round(input_shape[COL_AXIS] / residual_shape[COL_AXIS]))\n",
        "    equal_channels = input_shape[CHANNEL_AXIS] == residual_shape[CHANNEL_AXIS]\n",
        "\n",
        "    shortcut = input\n",
        "    # 1 X 1 conv if shape is different. Else identity.\n",
        "    if stride_width > 1 or stride_height > 1 or not equal_channels:\n",
        "        shortcut = Conv2D(filters=residual_shape[CHANNEL_AXIS],\n",
        "                          kernel_size=(1, 1),\n",
        "                          strides=(stride_width, stride_height),\n",
        "                          padding=\"valid\",\n",
        "                          kernel_initializer=\"he_normal\",\n",
        "                          kernel_regularizer=l2(0.0001))(input)\n",
        "\n",
        "    return add([shortcut, residual])\n",
        "\n",
        "def _residual_block(block_function, filters, repetitions, is_first_layer=False):\n",
        "    \"\"\"Builds a residual block with repeating bottleneck blocks.\"\"\"\n",
        "    def f(input):\n",
        "        for i in range(repetitions):\n",
        "            init_strides = (1, 1)\n",
        "            #if i == 0 and not is_first_layer:\n",
        "            #    init_strides = (2, 2)\n",
        "            input = block_function(filters=filters, init_strides=init_strides,\n",
        "                                   is_first_block_of_first_layer=(is_first_layer and i == 0))(input)\n",
        "        return input\n",
        "\n",
        "    return f\n",
        "\n",
        "def basic_block(filters, init_strides=(1, 1), is_first_block_of_first_layer=False):\n",
        "    \"\"\"Basic 3 X 3 convolution blocks for use on resnets with layers <= 34.\n",
        "    Follows improved proposed scheme in http://arxiv.org/pdf/1603.05027v2.pdf\"\"\"\n",
        "    def f(input):\n",
        "\n",
        "        if is_first_block_of_first_layer:\n",
        "            # don't repeat bn->relu since we just did bn->relu->maxpool\n",
        "            conv1 = Conv2D(filters=filters, kernel_size=(3, 3),\n",
        "                           strides=init_strides,\n",
        "                           padding=\"same\",\n",
        "                           kernel_initializer=\"he_normal\",\n",
        "                           kernel_regularizer=l2(1e-4))(input)\n",
        "        else:\n",
        "            conv1 = _bn_relu_conv(filters=filters, kernel_size=(3, 3),\n",
        "                                  strides=init_strides)(input)\n",
        "\n",
        "        residual = _bn_relu_conv(filters=filters, kernel_size=(3, 3))(conv1)\n",
        "        return _shortcut(input, residual)\n",
        "\n",
        "    return f\n",
        "\n",
        "def bottleneck(filters, init_strides=(1, 1), is_first_block_of_first_layer=False):\n",
        "    \"\"\"Bottleneck architecture for > 34 layer resnet.\n",
        "    Follows improved proposed scheme in http://arxiv.org/pdf/1603.05027v2.pdf\n",
        "    Returns:\n",
        "        A final conv layer of filters * 4\"\"\"\n",
        "    def f(input):\n",
        "\n",
        "        if is_first_block_of_first_layer:\n",
        "            # don't repeat bn->relu since we just did bn->relu->maxpool\n",
        "            conv_1_1 = Conv2D(filters=filters, kernel_size=(1, 1),\n",
        "                              strides=init_strides,\n",
        "                              padding=\"same\",\n",
        "                              kernel_initializer=\"he_normal\",\n",
        "                              kernel_regularizer=l2(1e-4))(input)\n",
        "        else:\n",
        "            conv_1_1 = _bn_relu_conv(filters=filters, kernel_size=(1, 1),\n",
        "                                     strides=init_strides)(input)\n",
        "\n",
        "        conv_3_3 = _bn_relu_conv(filters=filters, kernel_size=(3, 3))(conv_1_1)\n",
        "        residual = _bn_relu_conv(filters=filters * 4, kernel_size=(1, 1))(conv_3_3)\n",
        "        return _shortcut(input, residual)\n",
        "\n",
        "    return f\n",
        "\n",
        "def _handle_dim_ordering():\n",
        "    global ROW_AXIS\n",
        "    global COL_AXIS\n",
        "    global CHANNEL_AXIS\n",
        "    if K.image_dim_ordering() == 'tf':\n",
        "        ROW_AXIS = 1\n",
        "        COL_AXIS = 2\n",
        "        CHANNEL_AXIS = 3\n",
        "    else:\n",
        "        CHANNEL_AXIS = 1\n",
        "        ROW_AXIS = 2\n",
        "        COL_AXIS = 3\n",
        "\n",
        "def _get_block(identifier):\n",
        "    if isinstance(identifier, six.string_types):\n",
        "        res = globals().get(identifier)\n",
        "        if not res:\n",
        "            raise ValueError('Invalid {}'.format(identifier))\n",
        "        return res\n",
        "    return identifier\n",
        "\n",
        "\n",
        "class Denormalize(Layer):\n",
        "    '''\n",
        "    Custom layer to denormalize the final Convolution layer activations (tanh)\n",
        "    Since tanh scales the output to the range (-1, 1), we add 1 to bring it to the\n",
        "    range (0, 2). We then multiply it by 127.5 to scale the values to the range (0, 255)\n",
        "    '''\n",
        "\n",
        "    def __init__(self, **kwargs):\n",
        "        super(Denormalize, self).__init__(**kwargs)\n",
        "\n",
        "    def build(self, input_shape):\n",
        "        pass\n",
        "\n",
        "    def call(self, x, mask=None):\n",
        "        '''\n",
        "        Scales the tanh output activations from previous layer (-1, 1) to the\n",
        "        range (0, 255)\n",
        "        '''\n",
        "        \n",
        "        return (x + 1) * 127.5\n",
        "\n",
        "    def get_output_shape_for(self, input_shape):\n",
        "        return input_shape\n",
        "\n",
        "\n",
        "            \n",
        "def normalize(x):\n",
        "    return (x.astype('float32')/127.5)-1\n",
        "  \n",
        "def interp(x):\n",
        "    x_temp=np.empty((len(x), 288, 288, 3))\n",
        "    for i in range(len(x)):\n",
        "      x_temp[i,] = cv2.resize(x[i],(288,288), interpolation = cv2.INTER_CUBIC)\n",
        "    return x_temp\n",
        "  \n",
        "def denormalize(x):\n",
        "    return np.uint8((x+1)*127.5)\n",
        "            \n",
        "def get_psnr(img1, img2, MAX):\n",
        "    mse = np.mean((img1-img2)**2)\n",
        "    return 10*math.log10( MAX**2 / mse )\n",
        "\n",
        "def get_psnr_mean(batch1, batch2, MAX):\n",
        "    psnrs = [ get_psnr(batch1[i], batch2[i], MAX) for i in range(len(batch1)) ]\n",
        "    mean = sum(psnrs)/len(psnrs)\n",
        "    return psnrs, mean\n",
        "\n",
        "def get_ychannel(img):\n",
        "    img_ycrcb = cv2.cvtColor(img, cv2.COLOR_RGB2YCrCb)\n",
        "    return img_ycrcb[:,:,0]\n",
        "  \n",
        "def get_ychannel_batch(batch):\n",
        "  ychs = [ get_ychannel(x) for x in batch ]\n",
        "  return np.asarray(ychs)\n",
        "\n",
        "def val_psnr_ssim(x, y, model, layer_index):\n",
        "  mainModel = Model(fullModel.input, fullModel.layers[layer_index].output)\n",
        "  psnr_temp, ssim_temp = [], []\n",
        "  for i in range(len(x)):\n",
        "    if mainModel.input.shape[1] == 288:\n",
        "      x_temp = normalize(interp(x[i:i+1]))\n",
        "    else:\n",
        "      x_temp = normalize(x[i:i+1])\n",
        "    x_out = np.uint8( mainModel.predict_on_batch(x_temp)[0] )\n",
        "    x_out_ych = get_ychannel(x_out)\n",
        "    y_ych = get_ychannel(y_valid[i])\n",
        "    psnr_temp.append( get_psnr(y_ych, x_out_ych, 255) )\n",
        "    ssim_temp.append( compare_ssim(y_ych, x_out_ych, data_range=255) )\n",
        "    psnr_mean = sum(psnr_temp)/len(psnr_temp)\n",
        "    ssim_mean = sum(ssim_temp)/len(ssim_temp)\n",
        "  return psnr_mean, ssim_mean\n",
        "\n",
        "def new_loss(y_true, y_pred):\n",
        "    return K.sqrt(K.sum(K.square(y_pred)))/82944\n",
        "\n",
        "def nrmse_relu1_2(y_true, y_pred):\n",
        "    # relu_1-2: 5308416 relu_2-2: 2654208 relu_3-3: 1327104\n",
        "    return K.sqrt(K.sum(K.square(y_pred - y_true)))/5308416\n",
        "\n",
        "def nrmse_relu2_2(y_true, y_pred):\n",
        "    # relu_1-2: 5308416 relu_2-2: 2654208 relu_3-3: 1327104\n",
        "    return K.sqrt(K.sum(K.square(y_pred - y_true)))/2654208\n",
        "\n",
        "def nrmse_relu3_3(y_true, y_pred):\n",
        "    # relu_1-2: 5308416 relu_2-2: 2654208 relu_3-3: 1327104\n",
        "    return K.sqrt(K.sum(K.square(y_pred - y_true)))/1327104\n",
        "\n",
        "def per_pixel(y_true, y_pred):\n",
        "    return K.sqrt(K.sum(K.square(y_pred - y_true)))/248832\n",
        "  \n",
        "def model_load(model_name, output_layer):\n",
        "    fullModel_test = load_model(model_name, custom_objects={'nrmse': nrmse, 'Denormalize' : Denormalize})\n",
        "    mainModel_test = Model(fullModel_test.input, fullModel_test.layers[output_layer].output)\n",
        "    return mainModel_test\n",
        "\n",
        "def test_model(img_test, model, model_type, layer_index): \n",
        "    if model_type == 'full':\n",
        "        mainModel_temp = Model(model.input, model.layers[layer_index].output)\n",
        "    elif model_type == 'main':\n",
        "        mainModel_temp = model\n",
        "    x_interp = cv2.resize(img_test,(288,288), interpolation = cv2.INTER_CUBIC)\n",
        "    if mainModel_temp.input_shape[1] == 288:\n",
        "        x = x_interp\n",
        "    else:\n",
        "        x = img_test\n",
        "    x = (x.astype('float32')/127.5)-1\n",
        "    img = np.array(x)[np.newaxis,:,:,:]\n",
        "    y = mainModel_temp.predict_on_batch(img)\n",
        "    return x_interp, y[0]\n",
        "\n",
        "def kernel_init(shape):\n",
        "    kernel = np.zeros(shape)\n",
        "    kernel[:,:,0,0] = np.array([[0,-0.25,0],[-0.25,1,-0.25],[0,-0.25,0]])\n",
        "    return kernel\n",
        "  \n",
        "class ResnetBuilder(object):\n",
        "    @staticmethod\n",
        "    def build(input_shape, num_outputs, block_fn, repetitions):\n",
        "        \"\"\"Builds a custom ResNet like architecture.\n",
        "        Args:\n",
        "            input_shape: The input shape in the form (nb_channels, nb_rows, nb_cols)\n",
        "            num_outputs: The number of outputs at final softmax layer\n",
        "            block_fn: The block function to use. This is either `basic_block` or `bottleneck`.\n",
        "                The original paper used basic_block for layers < 50\n",
        "            repetitions: Number of repetitions of various block units.\n",
        "                At each block unit, the number of filters are doubled and the input size is halved\n",
        "        Returns:\n",
        "            The keras `Model`.\n",
        "        \"\"\"\n",
        "        _handle_dim_ordering()\n",
        "        if len(input_shape) != 3:\n",
        "            raise Exception(\"Input shape should be a tuple (nb_channels, nb_rows, nb_cols)\")\n",
        "\n",
        "        # Permute dimension order if necessary\n",
        "        if K.image_dim_ordering() == 'tf':\n",
        "            input_shape = (input_shape[1], input_shape[2], input_shape[0])\n",
        "\n",
        "        # Load function from str if needed.\n",
        "        block_fn = _get_block(block_fn)\n",
        "\n",
        "        # Architecture starts\n",
        "        input = Input(shape=input_shape)\n",
        "        block = _conv_bn_relu(filters=64, kernel_size=(9, 9), strides=(1, 1))(input)\n",
        "        \n",
        "        # Residual blocks\n",
        "        for i, r in enumerate(repetitions):\n",
        "            block = _residual_block(block_fn, filters=64, repetitions=r, is_first_layer=(i == 0))(block)\n",
        "            \n",
        "        # Last few layers\n",
        "        block = _conv_trans_bn_relu(filters=64, kernel_size=(3, 3), strides=(2, 2))(block)\n",
        "        block = _conv_trans_bn_relu(filters=64, kernel_size=(3, 3), strides=(2, 2))(block)\n",
        "        block = _conv_bn_tanh(filters=3, kernel_size=(9, 9), strides=(1, 1))(block)\n",
        "        block = Denormalize(name='denorm_output')(block)\n",
        "        model = Model(inputs=input, outputs=block)\n",
        "        \n",
        "        \n",
        "        return model\n",
        "\n",
        "class SRCNN(object):\n",
        "    @staticmethod\n",
        "    def build(input_shape):\n",
        "        \"\"\"Builds a three layer single-image super resolution network\n",
        "        \"\"\"\n",
        "        input = Input(shape=input_shape)\n",
        "        block = Conv2D(64, (9, 9), padding='same', activation='relu', kernel_initializer='he_normal')(input)\n",
        "        block = Conv2D(32, (1, 1), padding='same', activation='relu', kernel_initializer='he_normal')(block)\n",
        "        block = Conv2D(3, (5, 5), padding='same',activation='tanh', kernel_initializer='he_normal')(block)\n",
        "        block = Denormalize(name='denorm_output')(block)\n",
        "        model = Model(inputs=input, outputs=block)\n",
        "        return model\n",
        "\n",
        "class DataGenerator(keras.utils.Sequence):\n",
        "    'Generates data for Keras'\n",
        "    def __init__(self, x_train, y_train, input_shape, lossModel=None, batch_size=4, shuffle=True):\n",
        "        'Initialization'\n",
        "        self.x_train = x_train\n",
        "        self.y_train = y_train\n",
        "        self.input_shape = input_shape\n",
        "        self.lossModel = lossModel\n",
        "        self.batch_size = batch_size\n",
        "        self.shuffle = shuffle\n",
        "        self.on_epoch_end()\n",
        "\n",
        "    def __len__(self):\n",
        "        'Denotes the number of batches per epoch'\n",
        "        return int(np.floor(len(self.x_train) / self.batch_size))\n",
        "\n",
        "    def __getitem__(self, index):\n",
        "        'Generate one batch of data'\n",
        "        # Generate  batch of data\n",
        "        idx = self.indexes[index*self.batch_size:(index+1)*self.batch_size]\n",
        "        x = self.x_train[idx,]\n",
        "        \n",
        "        # Interpolation for SRCNN, as input is required in the shape (288,288,3)\n",
        "        if self.input_shape[1] == 288:\n",
        "          x = interp(x)\n",
        "        x = normalize(x)\n",
        "        \n",
        "        # Apply lossModel for perceptual loss\n",
        "        if self.lossModel == None:\n",
        "          y = self.y_train[idx,]\n",
        "        else:\n",
        "          y = self.lossModel.predict_on_batch(self.y_train[idx,])\n",
        "        \n",
        "        # For regularization\n",
        "        #y_trains = {\n",
        "        #    \"model_3\": y_train[idx,],\n",
        "        #    \"model_2\": y\n",
        "        #}\n",
        "        \n",
        "        return x, y\n",
        "      \n",
        "    def on_epoch_end(self):\n",
        "        'Updates indexes after each epoch'\n",
        "        self.indexes = np.arange(len(self.x_train))\n",
        "        if self.shuffle == True:\n",
        "            np.random.shuffle(self.indexes)\n",
        "      "
      ],
      "execution_count": 0,
      "outputs": []
    },
    {
      "cell_type": "markdown",
      "metadata": {
        "colab_type": "text",
        "id": "lRnrxgzE5LiN"
      },
      "source": [
        "# 3. Configure the model"
      ]
    },
    {
      "cell_type": "code",
      "metadata": {
        "id": "vSWQa5LqVTQI",
        "colab_type": "code",
        "colab": {}
      },
      "source": [
        "### Specify model name and some hyperparameters settings, create directories for saving data\n",
        "model_dir = \"SRCNN_perceptual_Relu2-2\"\n",
        "model_path = model_dir + \"/models\"\n",
        "output_path = model_dir + \"/outputs\"\n",
        "test_path = model_dir + \"/tests\"\n",
        "output_layer = \"Relu2-2\"\n",
        "loss_layer = 5          # Relu1-2: 2  Relu2-2: 5 Relu3-3: 9 \n",
        "loss_model_file = model_dir + \"/\" + model_dir + \"_lossModel_\" + output_layer + \".h5\"\n",
        "batch_size = 4 \n",
        "layer_index = 46        # 4 for SRCNN, 46 for ResNet\n",
        "\n",
        "if not exists(model_dir):\n",
        "    makedirs(model_dir)\n",
        "    makedirs(model_dir+\"/models\")\n",
        "    makedirs(model_dir+\"/outputs\")\n",
        "    makedirs(model_dir+\"/tests\")"
      ],
      "execution_count": 0,
      "outputs": []
    },
    {
      "cell_type": "markdown",
      "metadata": {
        "id": "pStU6kRPn3Os",
        "colab_type": "text"
      },
      "source": [
        "## a. Build new model\n"
      ]
    },
    {
      "cell_type": "markdown",
      "metadata": {
        "id": "iJlvUiCWU4As",
        "colab_type": "text"
      },
      "source": [
        "### Create model with per-pixel loss"
      ]
    },
    {
      "cell_type": "code",
      "metadata": {
        "id": "N7_5xx4ZTy6u",
        "colab_type": "code",
        "colab": {}
      },
      "source": [
        "### Create Image Transformation Model ###\n",
        "#fullModel = SRCNN.build((288,288,3))\n",
        "fullModel = ResnetBuilder.build((3,72,72), 5, basic_block, [1, 1, 1, 1, 1])\n",
        "#fullModel.summary()\n",
        "plot_model(fullModel, to_file= model_dir + '/' + model_dir + '_fullModel_' + output_layer + '.png', show_shapes=True)\n",
        "\n",
        "### Compile FUll Model\n",
        "fullModel.compile(loss=per_pixel, optimizer='adam',metrics=['mse'])\n",
        "trained_epochs=0\n",
        "train_loss, valid_loss, PSNR, SSIM = [], [], [], []\n",
        "print(\"Model_\" + model_dir + \"_\" + output_layer + \" compiled!\")"
      ],
      "execution_count": 0,
      "outputs": []
    },
    {
      "cell_type": "markdown",
      "metadata": {
        "id": "bdWw1n1iVBVs",
        "colab_type": "text"
      },
      "source": [
        "### Create model with perceptual loss"
      ]
    },
    {
      "cell_type": "code",
      "metadata": {
        "id": "vNSbDtslsNtx",
        "colab_type": "code",
        "colab": {}
      },
      "source": [
        "### Create Image Transformation Model ###\n",
        "#mainModel = SRCNN.build((288,288,3))\n",
        "mainModel = ResnetBuilder.build((3,72,72), 5, basic_block, [1, 1, 1, 1, 1])\n",
        "#mainModel.summary()\n",
        "plot_model(mainModel, to_file= model_dir + '/' + model_dir + '_mainModel.png', show_shapes=True)\n",
        "\n",
        "### Create Loss Model (VGG16) ###\n",
        "lossModel = VGG16(include_top=False, weights='imagenet', input_tensor=None, input_shape=(288,288,3))\n",
        "lossModel.trainable=False\n",
        "for layer in lossModel.layers:\n",
        "    layer.trainable=False\n",
        "#lossModel.summary()\n",
        "plot_model(lossModel, to_file= model_dir + '/' + 'VGG16.png', show_shapes=True)\n",
        "### Create New Loss Model (Use certain layer output for perceptual loss)\n",
        "lossModel = Model(lossModel.inputs,lossModel.layers[loss_layer].output)\n",
        "lossModelOutputs = lossModel(mainModel.output)\n",
        "lossModel.save(model_dir + '/' + model_dir + '_lossModel_' + output_layer + '.h5')\n",
        "#lossModel.summary()\n",
        "plot_model(lossModel, to_file= model_dir + '/' + model_dir + '_lossModel_' + output_layer + '.png', show_shapes=True)\n",
        "\n",
        "a = Input(shape=(288,288,3))\n",
        "b = Conv2D(filters=1, name='reg_output', kernel_size=(3,3), strides=1, padding='same', kernel_initializer=kernel_init, trainable=False)(a)\n",
        "regModel = Model(inputs=a, outputs=b)\n",
        "regModelOutputs=regModel(mainModel.output)\n",
        "                \n",
        "### Create Full Model ###\n",
        "fullModel = Model(mainModel.input, [lossModelOutputs, regModelOutputs])\n",
        "fullModel.summary()\n",
        "plot_model(fullModel, to_file= model_dir + '/' + model_dir + '_fullModel_' + output_layer + '.png', show_shapes=True)\n",
        "\n",
        "### For regularization ###\n",
        "#loss_funcs = {\n",
        "#        \"model_3\": new_loss,\n",
        "#        \"model_2\": nrmse_relu2_2\n",
        "#}\n",
        "#loss_weights = {\"model_3\": 1.0, \"model_2\": 1.0}\n",
        "\n",
        "### Compile FUll Model\n",
        "fullModel.compile(loss=nrmse_relu2_2, loss_weights=loss_weights, optimizer='adam')\n",
        "lossModel.predict(np.zeros((2, 288,288,3)))\n",
        "trained_epochs=0\n",
        "train_loss, valid_loss, PSNR, SSIM = [], [], [], []\n",
        "print(\"Model_\" + model_dir + \"_\" + output_layer + \" compiled!\")"
      ],
      "execution_count": 0,
      "outputs": []
    },
    {
      "cell_type": "markdown",
      "metadata": {
        "id": "bmEyr74LoA4_",
        "colab_type": "text"
      },
      "source": [
        "## b. Load pretrained model\n"
      ]
    },
    {
      "cell_type": "code",
      "metadata": {
        "id": "nnuPvNrooE11",
        "colab_type": "code",
        "colab": {}
      },
      "source": [
        "trained_epochs=78\n",
        "fullModel = load_model(model_path + \"/\" + model_dir + \"_epoch\" + str(trained_epochs)+\".h5\", custom_objects={'nrmse_relu3_3': nrmse_relu3_3, 'Denormalize': Denormalize} )\n",
        "lossModel = load_model(loss_model_file, custom_objects={'nrmse_relu3_3': nrmse_relu3_3} )\n",
        "lossModel.predict(np.zeros((2, 288,288,3)))\n",
        "with h5py.File(model_path+\"/\"+model_dir+\"_loss_and_metric.h5\", 'r') as hf:\n",
        "    train_loss = hf['train_loss'][:].tolist()\n",
        "    valid_loss = hf['valid_loss'][:].tolist()\n",
        "    PSNR = hf['PSNR'][:].tolist()\n",
        "    SSIM = hf['SSIM'][:].tolist()\n",
        "print(\"Model and training record loaded\", len(PSNR), len(train_loss) )"
      ],
      "execution_count": 0,
      "outputs": []
    },
    {
      "cell_type": "markdown",
      "metadata": {
        "id": "XGAcAJZWsNt1",
        "colab_type": "text"
      },
      "source": [
        "# 4. Training"
      ]
    },
    {
      "cell_type": "code",
      "metadata": {
        "id": "hkeAKscUsNt5",
        "colab_type": "code",
        "colab": {}
      },
      "source": [
        "# Configure data generator\n",
        "train_generator = DataGenerator(x_train[:], y_train[:], input_shape=fullModel.input.shape, lossModel=lossModel, batch_size=batch_size, shuffle=True)\n",
        "valid_generator = DataGenerator(x_valid[:], y_valid[:], input_shape=fullModel.input.shape, lossModel=lossModel, batch_size=1, shuffle=True)"
      ],
      "execution_count": 0,
      "outputs": []
    },
    {
      "cell_type": "code",
      "metadata": {
        "id": "w3EenfWXVCpn",
        "colab_type": "code",
        "colab": {}
      },
      "source": [
        "# Train model on dataset 2\n",
        "epochs=5\n",
        "for epoch in range(trained_epochs+1,trained_epochs+epochs+1):\n",
        "    ### Training\n",
        "    hist = fullModel.fit_generator(generator=train_generator, validation_data=valid_generator, validation_steps=len(x_valid[:]), \n",
        "                                   epochs=epoch, initial_epoch=epoch-1, workers=6, use_multiprocessing=False )\n",
        "    train_loss.append(hist.history['loss'])\n",
        "    valid_loss.append(hist.history['val_loss'])\n",
        "    \n",
        "    ### Compute and record PSNR & SSIM\n",
        "    psnr_mean, ssim_mean = val_psnr_ssim(x_valid[:], y_valid[:], fullModel, layer_index)\n",
        "    PSNR.append(psnr_mean)\n",
        "    SSIM.append(ssim_mean)\n",
        "    if len(train_loss) == len(valid_loss) == len(PSNR) == len(SSIM):\n",
        "      print( \"PSNR_\", PSNR[epoch-1], \"SSIM\", SSIM[epoch-1] )\n",
        "    \n",
        "    ### Save losses and metrics\n",
        "    with h5py.File(model_path+\"/\"+model_dir+\"_loss_and_metric.h5\", 'w') as hf:\n",
        "      hf.create_dataset('train_loss', data=train_loss)\n",
        "      hf.create_dataset('valid_loss', data=valid_loss)\n",
        "      hf.create_dataset('PSNR', data=PSNR)\n",
        "      hf.create_dataset('SSIM', data=SSIM)\n",
        "    \n",
        "    ### Record output for single test image\n",
        "    if epoch%1==0:\n",
        "      fullModel.save(model_path + \"/\" + model_dir + \"_epoch\" + str(epoch)+'.h5')\n",
        "      x, y = test_model(x_test[4], fullModel, 'full', layer_index)\n",
        "      imageio.imwrite(output_path + \"/\" + model_dir + \"_epoch\" + str(epoch)+'.png', np.uint8(y))\n",
        "      \n",
        "trained_epochs=trained_epochs + epochs"
      ],
      "execution_count": 0,
      "outputs": []
    },
    {
      "cell_type": "markdown",
      "metadata": {
        "id": "kOaZCjzdsNuH",
        "colab_type": "text"
      },
      "source": [
        "# 5. Testing"
      ]
    },
    {
      "cell_type": "code",
      "metadata": {
        "id": "pfJ84rwlikK1",
        "colab_type": "code",
        "colab": {}
      },
      "source": [
        "model_name = model_path + \"/\" + model_dir + \"_epoch\" + str(trained_epochs)+'.h5'\n",
        "fullModel_test = load_model(model_name, custom_objects={'nrmse': nrmse, 'Denormalize' : Denormalize})\n",
        "mainModel_test = Model(fullModel_test.input, fullModel_test.layers[output_layer].output)"
      ],
      "execution_count": 0,
      "outputs": []
    },
    {
      "cell_type": "code",
      "metadata": {
        "id": "Ju2UAbTdcTtK",
        "colab_type": "code",
        "colab": {}
      },
      "source": [
        "for i in range(len(x_test)):\n",
        "    print(\"Test \"+str(i+1), end=\" \")\n",
        "    x, out = test_model(x_test[i], fullModel, 'full', layer_index)\n",
        "    imageio.imwrite(test_path + \"/test\" + str(i+1) + '_low.png', x)\n",
        "    imageio.imwrite(test_path + \"/test\" + str(i+1) + '_ground.png', y_test[i])\n",
        "    imageio.imwrite(test_path + \"/test\" + str(i+1) + '_out_' + model_dir + '_epoch' + str(trained_epochs) + '.png', np.uint8(out))"
      ],
      "execution_count": 0,
      "outputs": []
    }
  ]
}